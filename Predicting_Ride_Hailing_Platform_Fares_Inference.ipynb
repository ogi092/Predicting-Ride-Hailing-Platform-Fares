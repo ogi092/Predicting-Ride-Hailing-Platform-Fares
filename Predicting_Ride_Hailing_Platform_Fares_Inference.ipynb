{
 "cells": [
  {
   "cell_type": "code",
   "execution_count": 49,
   "metadata": {},
   "outputs": [],
   "source": [
    "# import libraries\n",
    "import pickle\n",
    "import json\n",
    "\n",
    "import pandas as pd\n",
    "import numpy as np\n",
    "\n",
    "# Library for warnings\n",
    "import warnings\n",
    "\n",
    "# Ignore all warnings\n",
    "warnings.filterwarnings(\"ignore\")"
   ]
  },
  {
   "cell_type": "code",
   "execution_count": 50,
   "metadata": {},
   "outputs": [],
   "source": [
    "# load model\n",
    "with open('list_cat_cols.txt', 'r') as file_1:\n",
    "  list_cat_col = json.load(file_1)\n",
    "\n",
    "with open('list_num_cols.txt', 'r') as file_2:\n",
    "  list_num_col = json.load(file_2)\n",
    "\n",
    "with open('encoder.pkl', 'rb') as file_3:\n",
    "  model_encoder = pickle.load(file_3)\n",
    "\n",
    "with open('scaler.pkl', 'rb') as file_4:\n",
    "  model_scaler = pickle.load(file_4)\n",
    "\n",
    "with open('model_lin_reg.pkl', 'rb') as file_5:\n",
    "  model_lin_reg = pickle.load(file_5)"
   ]
  },
  {
   "cell_type": "code",
   "execution_count": 51,
   "metadata": {},
   "outputs": [
    {
     "name": "stdout",
     "output_type": "stream",
     "text": [
      "<class 'pandas.core.frame.DataFrame'>\n",
      "RangeIndex: 10 entries, 0 to 9\n",
      "Data columns (total 5 columns):\n",
      " #   Column       Non-Null Count  Dtype  \n",
      "---  ------       --------------  -----  \n",
      " 0   source       10 non-null     object \n",
      " 1   destination  10 non-null     object \n",
      " 2   cab_type     10 non-null     object \n",
      " 3   name         10 non-null     object \n",
      " 4   distance     10 non-null     float64\n",
      "dtypes: float64(1), object(4)\n",
      "memory usage: 532.0+ bytes\n"
     ]
    }
   ],
   "source": [
    "# pembuatan tabel baru yang akan di gunakan dengan model yang telah disimpan\n",
    "data_inf = {\n",
    "    'source': ['Beacon Hill', 'South Station', 'West End', 'Fenway', 'Theatre District',\n",
    "               'North Station', 'Financial District', 'Boston University', 'South Station', 'Beacon Hill'],\n",
    "    \n",
    "    'destination': ['West End', 'Haymarket Square', 'Financial District', 'North End', 'Beacon Hill',\n",
    "                    'Boston University', 'South Station', 'Fenway', 'North Station', 'Theatre District'],\n",
    "    \n",
    "    'cab_type': ['Lyft', 'Uber', 'Lyft', 'Uber', 'Lyft', 'Uber', 'Lyft', 'Uber', 'Uber', 'Lyft'],\n",
    "    \n",
    "    'name': ['Lyft XL', 'Black SUV', 'Shared', 'UberPool', 'Lux', 'WAV', 'Lux Black', 'UberXL', 'WAV', 'Lux Black'],\n",
    "    \n",
    "    'distance': [1.87, 0.92, 2.50, 3.15, 4.02, 1.78, 0.65, 2.89, 1.21, 3.88]\n",
    "}\n",
    "\n",
    "data_inf = pd.DataFrame(data_inf)\n",
    "data_inf.info()"
   ]
  },
  {
   "cell_type": "code",
   "execution_count": 52,
   "metadata": {},
   "outputs": [
    {
     "data": {
      "text/plain": [
       "array([-2.11327218e+11,  2.11327218e+11, -2.11327218e+11,  2.11327218e+11,\n",
       "       -2.11327218e+11,  8.14849854e+00,  1.86862488e+01,  2.11327218e+11,\n",
       "        7.10119629e+00, -2.11327218e+11])"
      ]
     },
     "execution_count": 52,
     "metadata": {},
     "output_type": "execute_result"
    }
   ],
   "source": [
    "#split between numerical and categorical columns\n",
    "data_inf_num = data_inf[list_num_col]\n",
    "data_inf_cat = data_inf[list_cat_col]\n",
    "\n",
    "#feature scaling and encoding\n",
    "data_inf_num_scaled = model_scaler.transform(data_inf_num)\n",
    "data_inf_cat_encoded = model_encoder.transform(data_inf_cat)\n",
    "data_inf_final = np.concatenate([data_inf_num_scaled, data_inf_cat_encoded], axis = 1)\n",
    "\n",
    "#predict using linear reg model\n",
    "y_pred_inf = model_lin_reg.predict(data_inf_final)\n",
    "y_pred_inf"
   ]
  }
 ],
 "metadata": {
  "kernelspec": {
   "display_name": "base",
   "language": "python",
   "name": "python3"
  },
  "language_info": {
   "codemirror_mode": {
    "name": "ipython",
    "version": 3
   },
   "file_extension": ".py",
   "mimetype": "text/x-python",
   "name": "python",
   "nbconvert_exporter": "python",
   "pygments_lexer": "ipython3",
   "version": "3.11.5"
  }
 },
 "nbformat": 4,
 "nbformat_minor": 2
}
